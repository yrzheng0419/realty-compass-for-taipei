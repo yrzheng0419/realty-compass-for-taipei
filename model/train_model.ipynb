{
 "cells": [
  {
   "cell_type": "markdown",
   "metadata": {},
   "source": [
    "# 房價預測模型"
   ]
  },
  {
   "cell_type": "code",
   "execution_count": 4,
   "metadata": {},
   "outputs": [],
   "source": [
    "# Data Processing\n",
    "import polars as pl\n",
    "import pandas as pd\n",
    "import numpy as np\n",
    "\n",
    "# Modelling\n",
    "from sklearn.ensemble import RandomForestRegressor\n",
    "from sklearn.metrics import r2_score, mean_squared_error, root_mean_squared_error\n",
    "from sklearn.model_selection import RandomizedSearchCV, train_test_split\n",
    "from scipy.stats import randint\n",
    "import joblib\n",
    "\n",
    "# Visualisation\n",
    "import matplotlib.pyplot as plt"
   ]
  },
  {
   "cell_type": "code",
   "execution_count": 5,
   "metadata": {},
   "outputs": [],
   "source": [
    "# load data\n",
    "dat = pd.read_csv('../data/data.csv')\n",
    "\n",
    "# Split the data into features (X) and target (y)\n",
    "x = dat.drop(columns=['neighbor_avg_ping', 'ping'])\n",
    "y = dat[['ping']]\n",
    "\n",
    "# Split the data into training and test sets\n",
    "x_train, x_test, y_train, y_test = train_test_split(x, y, test_size=0.25)\n",
    "\n",
    "train_hex = x_train['hex_id']\n",
    "test_hex = x_test['hex_id']\n",
    "\n",
    "x_train = x_train.drop(['hex_id'], axis=1)\n",
    "x_test = x_test.drop(['hex_id'], axis=1)"
   ]
  },
  {
   "cell_type": "code",
   "execution_count": 6,
   "metadata": {},
   "outputs": [
    {
     "name": "stderr",
     "output_type": "stream",
     "text": [
      "c:\\Users\\ghhab\\miniconda3\\envs\\test\\Lib\\site-packages\\sklearn\\base.py:1389: DataConversionWarning: A column-vector y was passed when a 1d array was expected. Please change the shape of y to (n_samples,), for example using ravel().\n",
      "  return fit_method(estimator, *args, **kwargs)\n"
     ]
    },
    {
     "name": "stdout",
     "output_type": "stream",
     "text": [
      "R^2 of the RF model: 0.7071771375156479\n",
      "MSE of the RF model: 157.56450664531943\n",
      "RMSE of the RF model: 12.552470141184141\n"
     ]
    }
   ],
   "source": [
    "# Train the model\n",
    "rf = RandomForestRegressor(n_estimators = 1000, max_depth = 10, n_jobs=-1, random_state = 65)\n",
    "\n",
    "rf.fit(x_train, y_train)\n",
    "\n",
    "y_pred = rf.predict(x_test)\n",
    "\n",
    "r2 = r2_score(y_test, y_pred)\n",
    "mse = mean_squared_error(y_test, y_pred)\n",
    "rmse = root_mean_squared_error(y_test, y_pred)\n",
    "\n",
    "print(\"R^2 of the RF model:\", r2)\n",
    "print(\"MSE of the RF model:\", mse)\n",
    "print(\"RMSE of the RF model:\", rmse)"
   ]
  },
  {
   "cell_type": "code",
   "execution_count": 7,
   "metadata": {},
   "outputs": [
    {
     "name": "stderr",
     "output_type": "stream",
     "text": [
      "c:\\Users\\ghhab\\miniconda3\\envs\\test\\Lib\\site-packages\\sklearn\\base.py:1389: DataConversionWarning: A column-vector y was passed when a 1d array was expected. Please change the shape of y to (n_samples,), for example using ravel().\n",
      "  return fit_method(estimator, *args, **kwargs)\n"
     ]
    },
    {
     "name": "stdout",
     "output_type": "stream",
     "text": [
      "The parameters of the best RF: {'max_depth': 15, 'n_estimators': 317}\n",
      "R^2 of the RF with weighted district encoding: 0.7505635536697766\n",
      "MSE of the RF with weighted district encoding: 134.21879108733728\n",
      "RMSE of the RF with weighted district encoding: 11.585283383989244\n"
     ]
    }
   ],
   "source": [
    "param_dist = {'n_estimators': randint(200,1000),\n",
    "            'max_depth': randint(1,20)}\n",
    "\n",
    "# Use random search to find the best hyperparameters\n",
    "search = RandomizedSearchCV(rf, \n",
    "                            param_distributions = param_dist, \n",
    "                            n_iter = 5, \n",
    "                            cv = 5,\n",
    "                            n_jobs = -1,\n",
    "                            random_state = 65)\n",
    "\n",
    "# Fit the random search object to the data\n",
    "search.fit(x_train, y_train)\n",
    "\n",
    "rf_bst = search.best_estimator_\n",
    "\n",
    "y_bst_pred = rf_bst.predict(x_test)\n",
    "\n",
    "r2_bst = r2_score(y_test, y_bst_pred)\n",
    "mse_bst = mean_squared_error(y_test, y_bst_pred)\n",
    "rmse_bst = root_mean_squared_error(y_test, y_bst_pred)\n",
    "\n",
    "print(\"The parameters of the best RF:\", search.best_params_)\n",
    "print(\"R^2 of the RF with weighted district encoding:\", r2_bst)\n",
    "print(\"MSE of the RF with weighted district encoding:\", mse_bst)\n",
    "print(\"RMSE of the RF with weighted district encoding:\", rmse_bst)"
   ]
  },
  {
   "cell_type": "code",
   "execution_count": 8,
   "metadata": {},
   "outputs": [
    {
     "data": {
      "text/plain": [
       "['../model/rf_buy_new.joblib']"
      ]
     },
     "execution_count": 8,
     "metadata": {},
     "output_type": "execute_result"
    }
   ],
   "source": [
    "# save the model\n",
    "joblib.dump(rf_bst, '../model/rf_buy_new.joblib', compress = ('lzma', 3))"
   ]
  },
  {
   "cell_type": "code",
   "execution_count": null,
   "metadata": {},
   "outputs": [],
   "source": [
    "# Create a series containing feature importances from the model and feature names from the training data\n",
    "importances = pd.Series(rf_bst.feature_importances_, index=x_train.columns).sort_values(ascending=True)\n",
    "\n",
    "# Plot a simple bar chart\n",
    "importances.plot.barh()\n",
    "\n",
    "plt.xlabel('Feature Importance')\n",
    "plt.ylabel('Features')\n",
    "plt.title('Feature Importances of RF Model for House Price Prediction')\n",
    "\n",
    "# Show the plot\n",
    "plt.tight_layout()  # Adjust layout to fit everything\n",
    "plt.show()\n",
    "\n",
    "print(importances)"
   ]
  },
  {
   "cell_type": "code",
   "execution_count": 16,
   "metadata": {},
   "outputs": [],
   "source": [
    "# H3 Visualization\n",
    "pred = pd.Series(y_bst_pred, name = 'pred_ping').reset_index(drop=True)\n",
    "test = pd.concat([test_hex.astype(str), x_test.astype(float), y_test.astype(float)], axis = 1).reset_index(drop=True)\n",
    "test_pred = pd.concat([test, pred], axis=1)\n",
    "\n",
    "test_pred = pl.from_pandas(test_pred).with_columns(\n",
    "    (pl.col('pred_ping') - pl.col('ping')).alias('diff')\n",
    ")\n",
    "\n",
    "# test_pred_weight.head()\n",
    "test_pred.write_csv('../data/data_buy_diff.csv')"
   ]
  },
  {
   "cell_type": "markdown",
   "metadata": {},
   "source": [
    "# 房租預測模型"
   ]
  },
  {
   "cell_type": "code",
   "execution_count": 17,
   "metadata": {},
   "outputs": [],
   "source": [
    "# Data Processing\n",
    "import polars as pl\n",
    "import pandas as pd\n",
    "import numpy as np\n",
    "\n",
    "# Modelling\n",
    "from sklearn.ensemble import RandomForestRegressor\n",
    "from sklearn.metrics import r2_score, mean_squared_error, root_mean_squared_error\n",
    "from sklearn.model_selection import RandomizedSearchCV, train_test_split\n",
    "from scipy.stats import randint\n",
    "import joblib\n",
    "\n",
    "# Visualisation\n",
    "import matplotlib.pyplot as plt"
   ]
  },
  {
   "cell_type": "code",
   "execution_count": 9,
   "metadata": {},
   "outputs": [],
   "source": [
    "# load data\n",
    "dat = pd.read_csv('../data/data.csv')\n",
    "\n",
    "# Split the data into features (X) and target (y)\n",
    "x = dat.drop(columns=['mean_rent', 'neighbor_avg_ping', 'ping'])\n",
    "y = dat[['mean_rent']]\n",
    "\n",
    "# Split the data into training and test sets\n",
    "x_train, x_test, y_train, y_test = train_test_split(x, y, test_size=0.25)\n",
    "\n",
    "train_hex = x_train['hex_id']\n",
    "test_hex = x_test['hex_id']\n",
    "\n",
    "x_train = x_train.drop(['hex_id'], axis=1)\n",
    "x_test = x_test.drop(['hex_id'], axis=1)"
   ]
  },
  {
   "cell_type": "code",
   "execution_count": 10,
   "metadata": {},
   "outputs": [
    {
     "name": "stderr",
     "output_type": "stream",
     "text": [
      "c:\\Users\\ghhab\\miniconda3\\envs\\test\\Lib\\site-packages\\sklearn\\base.py:1389: DataConversionWarning: A column-vector y was passed when a 1d array was expected. Please change the shape of y to (n_samples,), for example using ravel().\n",
      "  return fit_method(estimator, *args, **kwargs)\n"
     ]
    },
    {
     "name": "stdout",
     "output_type": "stream",
     "text": [
      "R^2 of the RF model: 0.9254632424991005\n",
      "MSE of the RF model: 6410.922499428313\n",
      "RMSE of the RF model: 80.06823652003528\n"
     ]
    }
   ],
   "source": [
    "# Train the model\n",
    "rf = RandomForestRegressor(n_estimators = 1000, max_depth = 10, n_jobs=-1, random_state = 65)\n",
    "\n",
    "rf.fit(x_train, y_train)\n",
    "\n",
    "y_pred = rf.predict(x_test)\n",
    "\n",
    "r2 = r2_score(y_test, y_pred)\n",
    "mse = mean_squared_error(y_test, y_pred)\n",
    "rmse = root_mean_squared_error(y_test, y_pred)\n",
    "\n",
    "print(\"R^2 of the RF model:\", r2)\n",
    "print(\"MSE of the RF model:\", mse)\n",
    "print(\"RMSE of the RF model:\", rmse)"
   ]
  },
  {
   "cell_type": "code",
   "execution_count": 11,
   "metadata": {},
   "outputs": [
    {
     "name": "stderr",
     "output_type": "stream",
     "text": [
      "c:\\Users\\ghhab\\miniconda3\\envs\\test\\Lib\\site-packages\\sklearn\\base.py:1389: DataConversionWarning: A column-vector y was passed when a 1d array was expected. Please change the shape of y to (n_samples,), for example using ravel().\n",
      "  return fit_method(estimator, *args, **kwargs)\n"
     ]
    },
    {
     "name": "stdout",
     "output_type": "stream",
     "text": [
      "The parameters of the best RF: {'max_depth': 15, 'n_estimators': 317}\n",
      "R^2 of the RF with weighted district encoding: 0.992733449918499\n",
      "MSE of the RF with weighted district encoding: 624.9975310524503\n",
      "RMSE of the RF with weighted district encoding: 24.99995062100024\n"
     ]
    }
   ],
   "source": [
    "param_dist = {'n_estimators': randint(200,1000),\n",
    "            'max_depth': randint(1,20)}\n",
    "\n",
    "# Use random search to find the best hyperparameters\n",
    "search = RandomizedSearchCV(rf, \n",
    "                            param_distributions = param_dist, \n",
    "                            n_iter = 5, \n",
    "                            cv = 5,\n",
    "                            n_jobs = -1,\n",
    "                            random_state = 65)\n",
    "\n",
    "# Fit the random search object to the data\n",
    "search.fit(x_train, y_train)\n",
    "\n",
    "rf_bst = search.best_estimator_\n",
    "\n",
    "y_bst_pred = rf_bst.predict(x_test)\n",
    "\n",
    "r2_bst = r2_score(y_test, y_bst_pred)\n",
    "mse_bst = mean_squared_error(y_test, y_bst_pred)\n",
    "rmse_bst = root_mean_squared_error(y_test, y_bst_pred)\n",
    "\n",
    "print(\"The parameters of the best RF:\", search.best_params_)\n",
    "print(\"R^2 of the RF with weighted district encoding:\", r2_bst)\n",
    "print(\"MSE of the RF with weighted district encoding:\", mse_bst)\n",
    "print(\"RMSE of the RF with weighted district encoding:\", rmse_bst)"
   ]
  },
  {
   "cell_type": "code",
   "execution_count": 12,
   "metadata": {},
   "outputs": [
    {
     "data": {
      "text/plain": [
       "['../model/rf_rent_new.joblib']"
      ]
     },
     "execution_count": 12,
     "metadata": {},
     "output_type": "execute_result"
    }
   ],
   "source": [
    "# save the model\n",
    "joblib.dump(rf_bst, '../model/rf_rent_new.joblib', compress = ('lzma', 3))"
   ]
  },
  {
   "cell_type": "code",
   "execution_count": null,
   "metadata": {},
   "outputs": [],
   "source": [
    "# Create a series containing feature importances from the model and feature names from the training data\n",
    "importances = pd.Series(rf_bst.feature_importances_, index=x_train.columns).sort_values(ascending=True)\n",
    "\n",
    "# Plot a simple bar chart\n",
    "importances.plot.barh()\n",
    "\n",
    "plt.xlabel('Feature Importance')\n",
    "plt.ylabel('Features')\n",
    "plt.title('Feature Importances of RF Model for House Price Prediction')\n",
    "\n",
    "# Show the plot\n",
    "plt.tight_layout()  # Adjust layout to fit everything\n",
    "plt.show()\n",
    "\n",
    "print(importances)"
   ]
  },
  {
   "cell_type": "code",
   "execution_count": 23,
   "metadata": {},
   "outputs": [],
   "source": [
    "# H3 Visualization\n",
    "pred = pd.Series(y_bst_pred, name = 'pred_rent').reset_index(drop=True)\n",
    "test = pd.concat([test_hex.astype(str), x_test.astype(float), y_test.astype(float)], axis = 1).reset_index(drop=True)\n",
    "test_pred = pd.concat([test, pred], axis=1)\n",
    "\n",
    "test_pred = pl.from_pandas(test_pred).with_columns(\n",
    "    (pl.col('pred_rent') - pl.col('mean_rent')).alias('diff')\n",
    ")\n",
    "\n",
    "# test_pred_weight.head()\n",
    "test_pred.write_csv('../data/data_rent_diff.csv')"
   ]
  }
 ],
 "metadata": {
  "kernelspec": {
   "display_name": "test",
   "language": "python",
   "name": "python3"
  },
  "language_info": {
   "codemirror_mode": {
    "name": "ipython",
    "version": 3
   },
   "file_extension": ".py",
   "mimetype": "text/x-python",
   "name": "python",
   "nbconvert_exporter": "python",
   "pygments_lexer": "ipython3",
   "version": "3.12.8"
  }
 },
 "nbformat": 4,
 "nbformat_minor": 2
}
